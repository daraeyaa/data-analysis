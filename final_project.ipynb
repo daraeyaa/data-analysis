{
  "nbformat": 4,
  "nbformat_minor": 0,
  "metadata": {
    "colab": {
      "provenance": []
    },
    "kernelspec": {
      "name": "python3",
      "display_name": "Python 3"
    },
    "language_info": {
      "name": "python"
    }
  },
  "cells": [
    {
      "cell_type": "markdown",
      "source": [
        "📚 **도서관 빅데이터를 활용한\n",
        "20대 성별에 따른 대출 트랜드 분석** 📊\n",
        "\n",
        "* 도서관 정보나루 데이터 사용"
      ],
      "metadata": {
        "id": "06EduBaH54Pn"
      }
    },
    {
      "cell_type": "code",
      "source": [
        "from google.colab import drive\n",
        "drive.mount('/content/drive')"
      ],
      "metadata": {
        "colab": {
          "base_uri": "https://localhost:8080/"
        },
        "id": "3TCwYTge4XGf",
        "outputId": "af545197-ea40-405d-9f5e-1c03dba141a8"
      },
      "execution_count": 2,
      "outputs": [
        {
          "output_type": "stream",
          "name": "stdout",
          "text": [
            "Drive already mounted at /content/drive; to attempt to forcibly remount, call drive.mount(\"/content/drive\", force_remount=True).\n"
          ]
        }
      ]
    },
    {
      "cell_type": "code",
      "source": [
        "# 단계 1: 폰트 설치\n",
        "import matplotlib.font_manager as fm\n",
        "\n",
        "!apt-get -qq -y install fonts-nanum > /dev/null\n",
        "fontpath = '/usr/share/fonts/truetype/nanum/NanumBarunGothic.ttf'\n",
        "font = fm.FontProperties(fname=fontpath, size=9)\n",
        "fm._rebuild()"
      ],
      "metadata": {
        "id": "GR3S01FDaHiv"
      },
      "execution_count": 3,
      "outputs": []
    },
    {
      "cell_type": "code",
      "source": [
        "# 단계 2: 런타임 재시작\n",
        "import os\n",
        "os.kill(os.getpid(), 9)"
      ],
      "metadata": {
        "id": "Q7X0wazRafLz"
      },
      "execution_count": null,
      "outputs": []
    },
    {
      "cell_type": "code",
      "source": [
        "# 단계 3: 한글 폰트 설정\n",
        "import matplotlib.pyplot as plt\n",
        "import matplotlib as mpl\n",
        "import matplotlib.font_manager as fm\n",
        "\n",
        "# 마이너스 표시 문제\n",
        "mpl.rcParams['axes.unicode_minus'] = False\n",
        "\t\n",
        "# 한글 폰트 설정\n",
        "path = '/usr/share/fonts/truetype/nanum/NanumGothicBold.ttf'\n",
        "font_name = fm.FontProperties(fname=path, size=18).get_name()\n",
        "plt.rc('font', family=font_name)\n",
        "fm._rebuild()"
      ],
      "metadata": {
        "id": "vLYxcw4paiE-"
      },
      "execution_count": 1,
      "outputs": []
    },
    {
      "cell_type": "markdown",
      "source": [
        "📝 **2022년 20대 성별별 대출량과 대출분야 분석**"
      ],
      "metadata": {
        "id": "gI7r-EahgnnN"
      }
    },
    {
      "cell_type": "code",
      "execution_count": 2,
      "metadata": {
        "colab": {
          "base_uri": "https://localhost:8080/"
        },
        "id": "BgjicAw_-OrB",
        "outputId": "d568821d-3dfa-47ad-92ac-e936b6cd16e9"
      },
      "outputs": [
        {
          "output_type": "stream",
          "name": "stdout",
          "text": [
            "2022년_20대_남성_인기도서\n",
            "   순위                                       서명                       저자  \\\n",
            "0   1  사피엔스 :유인원에서 사이보그까지, 인간 역사의 대담하고 위대한 질문     지은이: 유발 하라리 ;옮긴이: 조현욱   \n",
            "1   2       공정하다는 착각 :능력주의는 모두에게 같은 기회를 제공하는가         마이클 샌델 지음 ;함규진 옮김   \n",
            "2   3              나미야 잡화점의 기적 :히가시노 게이고 장편소설   지은이: 히가시노 게이고 ;옮긴이: 양윤옥   \n",
            "3   4                     달러구트 꿈 백화점.이미예 장편소설                  지은이: 이미예   \n",
            "4   5           돈의 속성 :최상위 부자가 말하는 돈에 대한 모든 것                  지은이: 김승호   \n",
            "\n",
            "                출판사  출판년도   권          ISBN  ISBN부가기호     KDC  대출건수  성별  \n",
            "0               김영사  2015 NaN  9.788930e+12    3900.0  909.00   973  남성  \n",
            "1               미래엔  2020 NaN  9.791160e+12    3300.0  332.60   879  남성  \n",
            "2              현대문학  2012 NaN  9.788970e+12    3830.0  833.60   842  남성  \n",
            "3             팩토리나인  2020 NaN  9.791170e+12    3810.0  813.70   783  남성  \n",
            "4  Snowfox(스노우폭스북스)  2020 NaN  9.791190e+12    3320.0  327.04   730  남성  \n",
            "2022년_20대_여성_인기도서\n",
            "   순위                           서명        저자                  출판사  출판년도   권  \\\n",
            "0   1          지구 끝의 온실 :김초엽 장편소설   지은이: 김초엽  Giant Books(자이언트북스)  2021 NaN   \n",
            "1   2         달러구트 꿈 백화점.이미예 장편소설   지은이: 이미예                팩토리나인  2020 NaN   \n",
            "2   3           시선으로부터, :정세랑 장편소설   지은이: 정세랑                 문학동네  2020 NaN   \n",
            "3   4  우리가 빛의 속도로 갈 수 없다면 :김초엽 소설   지은이: 김초엽                   허블  2019 NaN   \n",
            "4   5          지구에서 한아뿐 :정세랑 장편소설   지은이: 정세랑                   난다  2019 NaN   \n",
            "\n",
            "           ISBN  ISBN부가기호    KDC  대출건수  성별  \n",
            "0  9.790000e+12    3810.0  813.7  5176  여성  \n",
            "1  9.790000e+12    3810.0  813.7  5028  여성  \n",
            "2  9.790000e+12    3810.0  813.7  4891  여성  \n",
            "3  9.790000e+12    3810.0  813.7  4763  여성  \n",
            "4  9.790000e+12    3810.0  813.7  4145  여성  \n",
            "<class 'pandas.core.frame.DataFrame'>\n",
            "Int64Index: 400 entries, 0 to 199\n",
            "Data columns (total 11 columns):\n",
            " #   Column    Non-Null Count  Dtype  \n",
            "---  ------    --------------  -----  \n",
            " 0   순위        400 non-null    int64  \n",
            " 1   서명        400 non-null    object \n",
            " 2   저자        400 non-null    object \n",
            " 3   출판사       400 non-null    object \n",
            " 4   출판년도      400 non-null    object \n",
            " 5   권         41 non-null     float64\n",
            " 6   ISBN      400 non-null    float64\n",
            " 7   ISBN부가기호  394 non-null    float64\n",
            " 8   KDC       396 non-null    float64\n",
            " 9   대출건수      400 non-null    int64  \n",
            " 10  성별        400 non-null    object \n",
            "dtypes: float64(4), int64(2), object(5)\n",
            "memory usage: 37.5+ KB\n",
            "None\n",
            "<class 'pandas.core.frame.DataFrame'>\n",
            "Int64Index: 400 entries, 0 to 199\n",
            "Data columns (total 9 columns):\n",
            " #   Column  Non-Null Count  Dtype  \n",
            "---  ------  --------------  -----  \n",
            " 0   순위      400 non-null    int64  \n",
            " 1   서명      400 non-null    object \n",
            " 2   저자      400 non-null    object \n",
            " 3   출판사     400 non-null    object \n",
            " 4   출판년도    400 non-null    object \n",
            " 5   ISBN    400 non-null    float64\n",
            " 6   KDC     400 non-null    float64\n",
            " 7   대출건수    400 non-null    int64  \n",
            " 8   성별      400 non-null    object \n",
            "dtypes: float64(2), int64(2), object(5)\n",
            "memory usage: 31.2+ KB\n",
            "None\n"
          ]
        }
      ],
      "source": [
        "# 라이브러리 불러오기\n",
        "import pandas as pd\n",
        "import seaborn as sns\n",
        "import matplotlib.pyplot as plt\n",
        "import numpy as np\n",
        "\n",
        "# 파일 경로\n",
        "file_path_man = '/content/drive/MyDrive/library_csv/2022년_20대_남성_인기도서.csv'\n",
        "file_path_woman = '/content/drive/MyDrive/library_csv/2022년_20대_여성_인기도서.csv'\n",
        "\n",
        "\n",
        "# 데이터프레임 변환(인코딩 에러 -> encoding 파라미터 활용)\n",
        "df_man = pd.read_csv(file_path_man, encoding='cp949')\n",
        "df_woman = pd.read_csv(file_path_woman, encoding='cp949')\n",
        "\n",
        "#성별 열 추가\n",
        "df_man['성별'] = '남성'\n",
        "print('2022년_20대_남성_인기도서')\n",
        "print(df_man.head())\n",
        "\n",
        "df_woman['성별'] = '여성'\n",
        "print('2022년_20대_여성_인기도서')\n",
        "print(df_woman.head())\n",
        "\n",
        "\n",
        "# 데이터프레임 합치기(행 방향으로 합치기)\n",
        "df = pd.concat([df_man, df_woman])\n",
        "print(df.info()) #400row 확인\n",
        "\n",
        "\n",
        "#합친 데이터 프레임 가공\n",
        "#권,ISBN 부가기호 열 삭제\n",
        "df.drop(['권', 'ISBN부가기호'], axis=1, inplace=True)\n",
        "\n",
        "#KDC 결측치 처리(396 non-null, 4건의 NaN)\n",
        "df['KDC'].fillna(method='bfill', inplace=True)\n",
        "print(df.info())\n",
        "\n"
      ]
    },
    {
      "cell_type": "code",
      "source": [
        "# KDC(한국십진분류법) 기반 분류를 위해 함수 매핑\n",
        "\n",
        "def kdcFunc(x) :\n",
        "  if (x > 0 and x <100):\n",
        "    return '총류'\n",
        "  elif (x >=100 and x<200) :\n",
        "    return '철학'\n",
        "  elif (x >=200 and x<300) :\n",
        "    return '종교'\n",
        "  elif (x >=300 and x<400) :\n",
        "    return '사회과학'\n",
        "  elif (x >=400 and x<500) :\n",
        "    return '자연과학'\n",
        "  elif (x >=500 and x<600) :\n",
        "    return '기술과학'\n",
        "  elif (x >=600 and x<700) :\n",
        "    return '예술'\n",
        "  elif (x >=700 and x<800) :\n",
        "    return '언어'\n",
        "  elif (x >=800 and x<900) :\n",
        "    return '문학'\n",
        "  elif (x >=900 and x<1000) :\n",
        "    return '역사'\n",
        "  else :\n",
        "    return '미상'\n",
        "\n",
        "df['sorted_KDC'] = df.apply(lambda x:kdcFunc(x['KDC']), axis=1)\n",
        "\n",
        "print(df.info())\n",
        "print(df['sorted_KDC'].value_counts())\n",
        "print(df)\n"
      ],
      "metadata": {
        "colab": {
          "base_uri": "https://localhost:8080/"
        },
        "id": "AeI9opoDozBt",
        "outputId": "1180ae1a-9b94-43f4-cfe2-9f004c871823"
      },
      "execution_count": 3,
      "outputs": [
        {
          "output_type": "stream",
          "name": "stdout",
          "text": [
            "<class 'pandas.core.frame.DataFrame'>\n",
            "Int64Index: 400 entries, 0 to 199\n",
            "Data columns (total 10 columns):\n",
            " #   Column      Non-Null Count  Dtype  \n",
            "---  ------      --------------  -----  \n",
            " 0   순위          400 non-null    int64  \n",
            " 1   서명          400 non-null    object \n",
            " 2   저자          400 non-null    object \n",
            " 3   출판사         400 non-null    object \n",
            " 4   출판년도        400 non-null    object \n",
            " 5   ISBN        400 non-null    float64\n",
            " 6   KDC         400 non-null    float64\n",
            " 7   대출건수        400 non-null    int64  \n",
            " 8   성별          400 non-null    object \n",
            " 9   sorted_KDC  400 non-null    object \n",
            "dtypes: float64(2), int64(2), object(6)\n",
            "memory usage: 34.4+ KB\n",
            "None\n",
            "문학      220\n",
            "사회과학    103\n",
            "철학       37\n",
            "총류       13\n",
            "자연과학      9\n",
            "기술과학      9\n",
            "역사        6\n",
            "예술        3\n",
            "Name: sorted_KDC, dtype: int64\n",
            "      순위                                       서명                       저자  \\\n",
            "0      1  사피엔스 :유인원에서 사이보그까지, 인간 역사의 대담하고 위대한 질문     지은이: 유발 하라리 ;옮긴이: 조현욱   \n",
            "1      2       공정하다는 착각 :능력주의는 모두에게 같은 기회를 제공하는가         마이클 샌델 지음 ;함규진 옮김   \n",
            "2      3              나미야 잡화점의 기적 :히가시노 게이고 장편소설   지은이: 히가시노 게이고 ;옮긴이: 양윤옥   \n",
            "3      4                     달러구트 꿈 백화점.이미예 장편소설                  지은이: 이미예   \n",
            "4      5           돈의 속성 :최상위 부자가 말하는 돈에 대한 모든 것                  지은이: 김승호   \n",
            "..   ...                                      ...                      ...   \n",
            "195  196                      당신이 옳다 :정혜신의 적정심리학                  지은이: 정혜신   \n",
            "196  197                                     연금술사        파울로 코엘료 지음;최정수 옮김   \n",
            "197  198                             추리소설가의 살인사건    저자: 히가시노 게이고 ;옮긴이: 민경욱   \n",
            "198  199                      재인, 재욱, 재훈 :정세랑 소설                  지은이: 정세랑   \n",
            "199  200                         오직 두 사람 :김영하 소설                  지은이: 김영하   \n",
            "\n",
            "                  출판사  출판년도          ISBN     KDC  대출건수  성별 sorted_KDC  \n",
            "0                 김영사  2015  9.788930e+12  909.00   973  남성         역사  \n",
            "1                 미래엔  2020  9.791160e+12  332.60   879  남성       사회과학  \n",
            "2                현대문학  2012  9.788970e+12  833.60   842  남성         문학  \n",
            "3               팩토리나인  2020  9.791170e+12  813.70   783  남성         문학  \n",
            "4    Snowfox(스노우폭스북스)  2020  9.791190e+12  327.04   730  남성       사회과학  \n",
            "..                ...   ...           ...     ...   ...  ..        ...  \n",
            "195                해냄  2018  9.790000e+12  189.00   761  여성         철학  \n",
            "196              문학동네  2001  9.790000e+12  879.00   760  여성         문학  \n",
            "197             소미미디어  2020  9.790000e+12  833.60   759  여성         문학  \n",
            "198              은행나무  2014  9.790000e+12  813.70   757  여성         문학  \n",
            "199              문학동네  2017  9.790000e+12  813.62   756  여성         문학  \n",
            "\n",
            "[400 rows x 10 columns]\n"
          ]
        }
      ]
    },
    {
      "cell_type": "markdown",
      "source": [
        "\n",
        "📊 **성별에 따른 대출 데이터 시각화 (2022.01.01~2022.12.10)**\n"
      ],
      "metadata": {
        "id": "ldXK7SuyfHVM"
      }
    },
    {
      "cell_type": "code",
      "source": [
        "#성별별 대출건수 합산을 위한 groupby 연산\n",
        "grouped_sex = df.groupby(df['성별'])['대출건수'].sum()\n",
        "\n",
        "#성별별 대출건수 시각화\n",
        "colors=['darkseagreen', 'mediumpurple']\n",
        "grouped_sex.plot.bar(color=colors, rot=0)\n"
      ],
      "metadata": {
        "colab": {
          "base_uri": "https://localhost:8080/",
          "height": 296
        },
        "id": "ixyQ1UrGokPy",
        "outputId": "e51fce41-81d3-4fe8-850b-58bccbf7a7ed"
      },
      "execution_count": 4,
      "outputs": [
        {
          "output_type": "execute_result",
          "data": {
            "text/plain": [
              "<matplotlib.axes._subplots.AxesSubplot at 0x7fb1e54dca90>"
            ]
          },
          "metadata": {},
          "execution_count": 4
        },
        {
          "output_type": "display_data",
          "data": {
            "text/plain": [
              "<Figure size 432x288 with 1 Axes>"
            ],
            "image/png": "[encoded data removed]"
          },
          "metadata": {
            "needs_background": "light"
          }
        }
      ]
    },
    {
      "cell_type": "code",
      "source": [
        "#대출 순위 200위 내 KDC 항목별 개수 그래프\n",
        "\n",
        "sns.set_palette(\"hls\")\n",
        "df.sort_values(by=['sorted_KDC'], inplace=True) #가나다순 정렬\n",
        "sns.countplot(data=df, x='sorted_KDC')"
      ],
      "metadata": {
        "colab": {
          "base_uri": "https://localhost:8080/",
          "height": 295
        },
        "id": "g0XP1Or1vG_r",
        "outputId": "f6d72b2f-5203-4762-a0e6-91d38560cfa4"
      },
      "execution_count": 5,
      "outputs": [
        {
          "output_type": "execute_result",
          "data": {
            "text/plain": [
              "<matplotlib.axes._subplots.AxesSubplot at 0x7fb1e5427490>"
            ]
          },
          "metadata": {},
          "execution_count": 5
        },
        {
          "output_type": "display_data",
          "data": {
            "text/plain": [
              "<Figure size 432x288 with 1 Axes>"
            ],
            "image/png": "[encoded data removed]"
          },
          "metadata": {
            "needs_background": "light"
          }
        }
      ]
    },
    {
      "cell_type": "code",
      "source": [
        "# 성별별 KDC 분류\n",
        "sns.set_palette(\"Set2\")\n",
        "ax = sns.countplot(data=df, x='sorted_KDC', hue='성별')\n",
        "\n",
        "# countplot에 값 표시\n",
        "for p in ax.patches:\n",
        "    height = p.get_height()\n",
        "    ax.text(p.get_x() + p.get_width() / 2, \n",
        "            height + 1, height, ha = 'center', size = 8)\n",
        "plt.show()"
      ],
      "metadata": {
        "colab": {
          "base_uri": "https://localhost:8080/",
          "height": 278
        },
        "id": "9EsBryzc0lFB",
        "outputId": "4c8ea0a5-ab86-4e35-b24b-d8ed87706f52"
      },
      "execution_count": 6,
      "outputs": [
        {
          "output_type": "display_data",
          "data": {
            "text/plain": [
              "<Figure size 432x288 with 1 Axes>"
            ],
            "image/png": "[encoded data removed]"
          },
          "metadata": {
            "needs_background": "light"
          }
        }
      ]
    },
    {
      "cell_type": "code",
      "source": [
        "# 20대 전체 기준 KDC별 대출건수 시각화 (bar chart)\n",
        "\n",
        "sumKDC = df.groupby(df['sorted_KDC'])['대출건수'].sum().sort_values(ascending=False)\n",
        "print(sumKDC)\n",
        "colors=['lightcoral', 'orange', 'gold', 'olive', 'skyblue', 'darkblue', 'purple', 'grey']\n",
        "sumKDC.plot.bar(color=colors, rot=0)\n"
      ],
      "metadata": {
        "colab": {
          "base_uri": "https://localhost:8080/",
          "height": 469
        },
        "id": "fAFzt6NPvZA2",
        "outputId": "ccd70bf0-b61c-47e1-e2e2-f6cd73f0708b"
      },
      "execution_count": 7,
      "outputs": [
        {
          "output_type": "stream",
          "name": "stdout",
          "text": [
            "sorted_KDC\n",
            "문학      255819\n",
            "사회과학     55997\n",
            "철학       26224\n",
            "자연과학      9199\n",
            "기술과학      6616\n",
            "총류        5450\n",
            "역사        5304\n",
            "예술        2305\n",
            "Name: 대출건수, dtype: int64\n"
          ]
        },
        {
          "output_type": "execute_result",
          "data": {
            "text/plain": [
              "<matplotlib.axes._subplots.AxesSubplot at 0x7fb1e4e84790>"
            ]
          },
          "metadata": {},
          "execution_count": 7
        },
        {
          "output_type": "display_data",
          "data": {
            "text/plain": [
              "<Figure size 432x288 with 1 Axes>"
            ],
            "image/png": "[encoded data removed]"
          },
          "metadata": {
            "needs_background": "light"
          }
        }
      ]
    },
    {
      "cell_type": "code",
      "source": [
        "# 20대 전체 기준 KDC별 대출건수 시각화(상위 5개 항목의 pie chart)\n",
        "\n",
        "sumKDC2 = sumKDC.head() #상위 5개 행 추출\n",
        "print(sumKDC2)\n",
        "\n",
        "plt.axis('equal')\n",
        "plt.title('상위 5개 항목의 원그래프')\n",
        "color_list = plt.cm.Set3(np.linspace(0.45, 1, 5))\n",
        "wedgeprops={'width': 0.7, 'edgecolor': 'w', 'linewidth': 1}\n",
        "\n",
        "# autopct 숫자 소수점 한자리 표현 #shadow=True\n",
        "plt.pie(sumKDC2, labels=sumKDC2.index, colors=color_list, autopct='%.1f%%', counterclock=False, \n",
        "        wedgeprops=wedgeprops, textprops={'fontsize': 11}) \n",
        "plt.show()\n",
        "\n"
      ],
      "metadata": {
        "colab": {
          "base_uri": "https://localhost:8080/",
          "height": 384
        },
        "id": "zeZNuROplPpg",
        "outputId": "12265784-c65d-4802-d24c-34188866eedd"
      },
      "execution_count": 8,
      "outputs": [
        {
          "output_type": "stream",
          "name": "stdout",
          "text": [
            "sorted_KDC\n",
            "문학      255819\n",
            "사회과학     55997\n",
            "철학       26224\n",
            "자연과학      9199\n",
            "기술과학      6616\n",
            "Name: 대출건수, dtype: int64\n"
          ]
        },
        {
          "output_type": "display_data",
          "data": {
            "text/plain": [
              "<Figure size 432x288 with 1 Axes>"
            ],
            "image/png": "[encoded data removed]"
          },
          "metadata": {}
        }
      ]
    },
    {
      "cell_type": "code",
      "source": [
        "# 20대 전체 기준 KDC별 대출건수 시각화 (bar chart) \n",
        "\n",
        "sumKDC = df.groupby(['성별','sorted_KDC'])['대출건수'].sum()\n",
        "sumKDC = sumKDC.to_frame().reset_index()\n",
        "print(sumKDC)\n",
        "\n",
        "colors=['lightcoral', 'orange', 'gold', 'olive', 'skyblue', 'darkblue', 'purple', 'grey']\n",
        "\n",
        "ax1 = plt.subplot(2, 1, 1)  \n",
        "ax1 = sns.barplot(data=sumKDC, x='sorted_KDC', y='대출건수', hue='성별')\n",
        "plt.xticks(visible=False)\n",
        "\n",
        "ax2 = plt.subplot(2, 1, 2, sharex=ax1)  \n",
        "ax2 = sns.barplot(data=sumKDC, x='sorted_KDC', y='대출건수', hue='성별')\n",
        "\n",
        "ax1.set_ylim(200000, 230000)\n",
        "ax2.set_ylim(0, 30000)\n",
        "\n",
        "# 그래프 사이의 경계선 제거\n",
        "ax1.spines['bottom'].set_visible(False)\n",
        "ax2.spines['top'].set_visible(False)\n",
        "ax1.xaxis.tick_top()\n",
        "ax1.tick_params(labeltop=False)\n",
        "ax2.xaxis.tick_bottom()\n",
        "\n",
        "ax2.get_legend().remove()\n",
        "ax1.axes.xaxis.set_visible(False)\n",
        "\n",
        "# y축에 물결선 표시\n",
        "kwargs = dict(marker=[(-1, -0.5), (1, 0.5)], markersize=12,\n",
        "              linestyle=\"none\", color='k', mec='k', mew=1, clip_on=False)\n",
        "ax1.plot([0, 1], [0, 0], transform=ax1.transAxes, **kwargs)\n",
        "ax2.plot([0, 1], [1, 1], transform=ax2.transAxes, **kwargs)\n",
        "\n",
        "plt.show()"
      ],
      "metadata": {
        "colab": {
          "base_uri": "https://localhost:8080/",
          "height": 577
        },
        "id": "YeGIQNAGrcVr",
        "outputId": "a0752706-629b-400c-9c67-a799ded08ef5"
      },
      "execution_count": 11,
      "outputs": [
        {
          "output_type": "stream",
          "name": "stdout",
          "text": [
            "    성별 sorted_KDC    대출건수\n",
            "0   남성       기술과학    1812\n",
            "1   남성         문학   26648\n",
            "2   남성       사회과학   27002\n",
            "3   남성         역사    1566\n",
            "4   남성         예술     267\n",
            "5   남성       자연과학    1678\n",
            "6   남성         철학    8432\n",
            "7   남성         총류    3580\n",
            "8   여성       기술과학    4804\n",
            "9   여성         문학  229171\n",
            "10  여성       사회과학   28995\n",
            "11  여성         역사    3738\n",
            "12  여성         예술    2038\n",
            "13  여성       자연과학    7521\n",
            "14  여성         철학   17792\n",
            "15  여성         총류    1870\n"
          ]
        },
        {
          "output_type": "display_data",
          "data": {
            "text/plain": [
              "<Figure size 432x288 with 2 Axes>"
            ],
            "image/png": "[encoded data removed]"
          },
          "metadata": {
            "needs_background": "light"
          }
        }
      ]
    },
    {
      "cell_type": "code",
      "source": [
        "df12 = df[df['sorted_KDC']=='총류']\n",
        "print(df12)"
      ],
      "metadata": {
        "colab": {
          "base_uri": "https://localhost:8080/"
        },
        "id": "bmp0t_fnfhVa",
        "outputId": "de17c47a-2e69-4607-9d17-be0e268a54b6"
      },
      "execution_count": 14,
      "outputs": [
        {
          "output_type": "stream",
          "name": "stdout",
          "text": [
            "      순위                                                 서명  \\\n",
            "182  183        파이썬 알고리즘 인터뷰 :95가지 알고리즘 문제 풀이로 완성하는 코딩 테스트    \n",
            "188  189                                 지적 대화를 위한 넓고 얕은 지식   \n",
            "193  192                                 지적 대화를 위한 넓고 얕은 지식   \n",
            "27    28  이것이 취업을 위한 코딩 테스트다 with 파이썬 :취업과 이직을 결정하는 알고리즘...   \n",
            "135  132  (한 권으로 읽는) 컴퓨터 구조와 프로그래밍 :더 나은 소프트웨어 개발을 위한 하드...   \n",
            "112  113                         (비전공자를 위한 이해할 수 있는) IT 지식    \n",
            "118  118               혼자 공부하는 파이썬 :1:1 과외하듯 배우는 프로그래밍 자습서    \n",
            "29    30                         (비전공자를 위한 이해할 수 있는) IT 지식    \n",
            "171  172  지적 대화를 위한 넓고 얕은 지식 1 - 현실 편 : 역사 / 경제 / 정치 / 사...   \n",
            "98    99  1일 1로그 100일 완성 IT 지식 :하드웨어, 소트프웨어, 통신, 데이터, 4가...   \n",
            "92    93       지적 대화를 위한 넓고 얕은 지식 :한 권으로 현실을 통찰하게 하는 지식 여행서   \n",
            "56    57  지적 대화를 위한 넓고 얕은 지식 1 - 현실 편 : 역사 / 경제 / 정치 / 사...   \n",
            "78    78   지적 대화를 위한 넓고 얕은 지식 0 :지혜를 찾아 138억 년을 달리는 시간 여행서    \n",
            "\n",
            "                         저자               출판사  출판년도          ISBN    KDC  \\\n",
            "182        박상길 지음 ;정진호 일러스트                책만  2020  9.791190e+12  5.100   \n",
            "188                  채사장 지음              한빛비즈  2014  9.788990e+12  1.300   \n",
            "193                  채사장 지음              한빛비즈  2014  9.788990e+12  1.300   \n",
            "27                   나동빈 지음             한빛미디어  2020  9.791160e+12  5.133   \n",
            "135    조너선 스타인하트 지음 ;오현석 옮김                책만  2021  9.791190e+12  4.220   \n",
            "112                  최원영 지음  T.W.I.G(티더블유아이지)  2020  9.790000e+12  4.000   \n",
            "118                  윤인성 지음             한빛미디어  2019  9.791160e+12  5.133   \n",
            "29                   최원영 지음  T.W.I.G(티더블유아이지)  2020  9.791200e+12  4.000   \n",
            "171               채사장 (지은이)               웨일북  2020  9.790000e+12  1.300   \n",
            "98   브라이언 W. 커니핸 지음 ;하성창 옮김              인사이트  2021  9.788970e+12  4.000   \n",
            "92                   채사장 지음  Whale Books(웨일북)  2020  9.791190e+12  1.300   \n",
            "56                채사장 (지은이)               웨일북  2020  9.791190e+12  1.300   \n",
            "78                   채사장 지음  Whale Books(웨일북)  2019  9.791190e+12  1.300   \n",
            "\n",
            "     대출건수  성별 sorted_KDC  \n",
            "182   237  남성         총류  \n",
            "188   232  남성         총류  \n",
            "193   231  남성         총류  \n",
            "27    488  남성         총류  \n",
            "135   272  남성         총류  \n",
            "112  1034  여성         총류  \n",
            "118   287  남성         총류  \n",
            "29    486  남성         총류  \n",
            "171   836  여성         총류  \n",
            "98    304  남성         총류  \n",
            "92    318  남성         총류  \n",
            "56    382  남성         총류  \n",
            "78    343  남성         총류  \n"
          ]
        }
      ]
    },
    {
      "cell_type": "markdown",
      "source": [
        "📝 **2021년 20대 성별, 분기별 대출량과 대출분야 분석**"
      ],
      "metadata": {
        "id": "AQZ25Faj6TGm"
      }
    },
    {
      "cell_type": "code",
      "source": [
        "# 데이터 전처리\n",
        "\n",
        "# 라이브러리 불러오기\n",
        "import pandas as pd\n",
        "import seaborn as sns\n",
        "\n",
        "\n",
        "# csv 불러오기\n",
        "file_path_man1 = '/content/drive/MyDrive/library_csv/2021_1분기_남성.csv'\n",
        "file_path_man2 = '/content/drive/MyDrive/library_csv/2021_2분기_남성.csv'\n",
        "file_path_man3 = '/content/drive/MyDrive/library_csv/2021_3분기_남성.csv'\n",
        "file_path_man4 = '/content/drive/MyDrive/library_csv/2021_4분기_남성.csv'\n",
        "\n",
        "file_path_woman1 = '/content/drive/MyDrive/library_csv/2021_1분기_여성.csv'\n",
        "file_path_woman2 = '/content/drive/MyDrive/library_csv/2021_2분기_여성.csv'\n",
        "file_path_woman3 = '/content/drive/MyDrive/library_csv/2021_3분기_여성.csv'\n",
        "file_path_woman4 = '/content/drive/MyDrive/library_csv/2021_4분기_여성.csv'\n",
        "\n",
        "\n",
        "# 데이터프레임 변환\n",
        "df_man1 = pd.read_csv(file_path_man1, encoding='cp949')\n",
        "df_man2 = pd.read_csv(file_path_man2, encoding='cp949')\n",
        "df_man3 = pd.read_csv(file_path_man3, encoding='cp949')\n",
        "df_man4 = pd.read_csv(file_path_man4, encoding='cp949')\n",
        "\n",
        "df_woman1 = pd.read_csv(file_path_woman1, encoding='cp949')\n",
        "df_woman2 = pd.read_csv(file_path_woman2, encoding='cp949')\n",
        "df_woman3 = pd.read_csv(file_path_woman3, encoding='cp949')\n",
        "df_woman4 = pd.read_csv(file_path_woman4, encoding='cp949')\n",
        "\n",
        "\n",
        "# 성별, 분기 열 추가\n",
        "man_list = [df_man1, df_man2, df_man3, df_man4]\n",
        "woman_list = [df_woman1, df_woman2, df_woman3, df_woman4]\n",
        "num_list = [1, 2, 3, 4]\n",
        "\n",
        "for i, j in zip(man_list, num_list):\n",
        "  i['성별'] = '남성'\n",
        "  i['분기'] = str(j)+ '분기'\n",
        "\n",
        "for i, j in zip(woman_list, num_list) :\n",
        "  i['성별'] = '여성'\n",
        "  i['분기'] = str(j)+ '분기'\n",
        "  \n",
        "# print(df_man3.info())\n",
        "# print(df_woman3.head())\n",
        "\n",
        "\n",
        "# 데이터프레임 합치기(행 방향)\n",
        "df_quater = pd.concat([df_man1, df_man2, df_man3, df_man4, df_woman1, df_woman2, df_woman3, df_woman4])\n",
        "print(df_quater.info()) #1600행 확인(200*8)\n",
        "\n",
        "\n",
        "# 데이터프레임 불필요한 행 삭제\n",
        "df_quater.drop(['권', 'ISBN', 'ISBN부가기호'], axis=1, inplace=True)\n",
        "\n",
        "\n",
        "# KDC 결측치 처리 (1597 non-null, 3건)\n",
        "df_quater['KDC'].fillna(method='bfill', inplace=True)\n",
        "\n",
        "\n",
        "# KDC 처리\n",
        "df_quater['sorted_KDC'] = df_quater.apply(lambda x:kdcFunc(x['KDC']), axis=1)\n",
        "\n",
        "print(df_quater.info())\n",
        "print(df_quater['sorted_KDC'].value_counts())\n",
        "print(df_quater)\n",
        "\n",
        "df_quater.to_csv('분기별.csv')"
      ],
      "metadata": {
        "colab": {
          "base_uri": "https://localhost:8080/"
        },
        "id": "4wTaytjW0b0X",
        "outputId": "4a132814-a752-40c2-cd8c-331a9a7cab37"
      },
      "execution_count": 15,
      "outputs": [
        {
          "output_type": "stream",
          "name": "stdout",
          "text": [
            "<class 'pandas.core.frame.DataFrame'>\n",
            "Int64Index: 1600 entries, 0 to 199\n",
            "Data columns (total 12 columns):\n",
            " #   Column    Non-Null Count  Dtype  \n",
            "---  ------    --------------  -----  \n",
            " 0   순위        1600 non-null   int64  \n",
            " 1   서명        1600 non-null   object \n",
            " 2   저자        1600 non-null   object \n",
            " 3   출판사       1600 non-null   object \n",
            " 4   출판년도      1600 non-null   object \n",
            " 5   권         163 non-null    float64\n",
            " 6   ISBN      1600 non-null   float64\n",
            " 7   ISBN부가기호  1584 non-null   float64\n",
            " 8   KDC       1597 non-null   float64\n",
            " 9   대출건수      1600 non-null   int64  \n",
            " 10  성별        1600 non-null   object \n",
            " 11  분기        1600 non-null   object \n",
            "dtypes: float64(4), int64(2), object(6)\n",
            "memory usage: 162.5+ KB\n",
            "None\n",
            "<class 'pandas.core.frame.DataFrame'>\n",
            "Int64Index: 1600 entries, 0 to 199\n",
            "Data columns (total 10 columns):\n",
            " #   Column      Non-Null Count  Dtype  \n",
            "---  ------      --------------  -----  \n",
            " 0   순위          1600 non-null   int64  \n",
            " 1   서명          1600 non-null   object \n",
            " 2   저자          1600 non-null   object \n",
            " 3   출판사         1600 non-null   object \n",
            " 4   출판년도        1600 non-null   object \n",
            " 5   KDC         1600 non-null   float64\n",
            " 6   대출건수        1600 non-null   int64  \n",
            " 7   성별          1600 non-null   object \n",
            " 8   분기          1600 non-null   object \n",
            " 9   sorted_KDC  1600 non-null   object \n",
            "dtypes: float64(1), int64(2), object(7)\n",
            "memory usage: 137.5+ KB\n",
            "None\n",
            "문학      868\n",
            "사회과학    387\n",
            "철학      157\n",
            "총류       64\n",
            "기술과학     49\n",
            "역사       28\n",
            "자연과학     27\n",
            "예술       12\n",
            "언어        7\n",
            "종교        1\n",
            "Name: sorted_KDC, dtype: int64\n",
            "      순위                                             서명  \\\n",
            "0      1        사피엔스 :유인원에서 사이보그까지, 인간 역사의 대담하고 위대한 질문    \n",
            "1      2                          12가지 인생의 법칙 :혼돈의 해독제    \n",
            "2      3                    나미야 잡화점의 기적 :히가시노 게이고 장편소설    \n",
            "3      4  팩트풀니스 :우리가 세상을 오해하는 10가지 이유와 세상이 생각보다 괜찮은 이유    \n",
            "4      5     (50대 사건으로 보는) 돈의 역사 =The history of money    \n",
            "..   ...                                            ...   \n",
            "195  196                  어디서 살 것인가우리가 살고 싶은 곳의 기준을 바꾸다   \n",
            "196  196                             눈으로 만든 사람 :최은미 소설    \n",
            "197  196                    트라우마 사전 :작가를 위한 캐릭터 창조 가이드    \n",
            "198  196                   존리의 금융문맹 탈출 :대한민국 경제독립 프로젝트    \n",
            "199  196         정신병의 나라에서 왔습니다 :병과 함께 살아가는 이들을 위한 안내서    \n",
            "\n",
            "                          저자               출판사  출판년도      KDC  대출건수  성별   분기  \\\n",
            "0      지은이: 유발 하라리 ;옮긴이: 조현욱               김영사  2015  909.000   309  남성  1분기   \n",
            "1       조던 B. 피터슨 지음 ;강주헌 옮김               메이븐  2018  199.100   285  남성  1분기   \n",
            "2    지은이: 히가시노 게이고 ;옮긴이: 양윤옥              현대문학  2012  833.600   267  남성  1분기   \n",
            "3       지은이: 한스 로슬링,옮긴이: 이창신               김영사  2019  331.100   240  남성  1분기   \n",
            "4                     홍춘욱 지음  Rok Media(로크미디어)  2019  327.209   237  남성  1분기   \n",
            "..                       ...               ...   ...      ...   ...  ..  ...   \n",
            "195                   유현준 지음             부산일보사  2018  540.040   180  여성  4분기   \n",
            "196                 지은이: 최은미              문학동네  2021  813.700   180  여성  4분기   \n",
            "197           안젤라 애커만,임상훈 옮김                윌북  2020  802.000   180  여성  4분기   \n",
            "198                    존리 지음              베가북스  2020  327.800   180  여성  4분기   \n",
            "199                    리단 지음                반비  2021  513.890   180  여성  4분기   \n",
            "\n",
            "    sorted_KDC  \n",
            "0           역사  \n",
            "1           철학  \n",
            "2           문학  \n",
            "3         사회과학  \n",
            "4         사회과학  \n",
            "..         ...  \n",
            "195       기술과학  \n",
            "196         문학  \n",
            "197         문학  \n",
            "198       사회과학  \n",
            "199       기술과학  \n",
            "\n",
            "[1600 rows x 10 columns]\n"
          ]
        }
      ]
    },
    {
      "cell_type": "code",
      "source": [
        "# 성별에 따른 분기별 대출량 구하기\n",
        "\n",
        "# 여성\n",
        "quater_woman =  df_quater[df_quater['성별']=='여성']\n",
        "grouped_woman = quater_woman.groupby(['분기'])['대출건수'].sum()\n",
        "print(grouped_woman)\n",
        "\n",
        "# pie chart\n",
        "plt.axis('equal')\n",
        "plt.title('여성의 분기별 대출비율')\n",
        "color_list = plt.cm.Pastel1((np.linspace(0, 1, 4)))\n",
        "wedgeprops={'width': 0.7, 'edgecolor': 'w', 'linewidth': 1}\n",
        "\n",
        "# autopct 숫자 소수점 한자리 표현\n",
        "plt.pie(grouped_woman, labels=grouped_woman.index, colors=color_list, autopct='%.1f%%', \n",
        "        counterclock=False, wedgeprops=wedgeprops, textprops={'fontsize': 11}, startangle=90)\n",
        "plt.show()\n",
        "\n",
        "# bar chart\n",
        "colors=['lightsalmon', 'thistle', 'wheat', 'lightgrey']\n",
        "ax = grouped_woman.plot.bar(color=colors, rot=0)\n",
        "\n",
        "for p in ax.patches:\n",
        "    height = p.get_height()\n",
        "    ax.text(p.get_x() + p.get_width() / 2, height + 5, height, ha = 'center', size = 10)\n"
      ],
      "metadata": {
        "colab": {
          "base_uri": "https://localhost:8080/",
          "height": 627
        },
        "id": "FyWKQ311Ci4C",
        "outputId": "9516cd76-f212-4f8f-b761-c6cac135ee25"
      },
      "execution_count": 73,
      "outputs": [
        {
          "output_type": "stream",
          "name": "stdout",
          "text": [
            "분기\n",
            "1분기    77371\n",
            "2분기    65949\n",
            "3분기    78994\n",
            "4분기    70568\n",
            "Name: 대출건수, dtype: int64\n"
          ]
        },
        {
          "output_type": "display_data",
          "data": {
            "text/plain": [
              "<Figure size 432x288 with 1 Axes>"
            ],
            "image/png": "[encoded data removed]"
          },
          "metadata": {}
        },
        {
          "output_type": "display_data",
          "data": {
            "text/plain": [
              "<Figure size 432x288 with 1 Axes>"
            ],
            "image/png": "[encoded data removed]"
          },
          "metadata": {
            "needs_background": "light"
          }
        }
      ]
    },
    {
      "cell_type": "code",
      "source": [
        "#남성\n",
        "quater_man = df_quater[df_quater['성별']=='남성']\n",
        "grouped_man = quater_man.groupby(['분기'])['대출건수'].sum()\n",
        "print(grouped_man)\n",
        "\n",
        "plt.axis('equal')\n",
        "plt.title('남성의 분기별 대출비율')\n",
        "color_list = plt.cm.Pastel2((np.linspace(0, 1, 4)))\n",
        "wedgeprops={'width': 0.7, 'edgecolor': 'w', 'linewidth': 1}\n",
        "\n",
        "\n",
        "# autopct 숫자 소수점 한자리 표현\n",
        "plt.pie(grouped_man, labels=grouped_man.index, colors=color_list, autopct='%.1f%%', counterclock=False,wedgeprops=wedgeprops, textprops={'fontsize': 11}, startangle=90) #shadow=True\n",
        "plt.show()\n",
        "\n",
        "colors=['mediumaquamarine', 'lightsteelblue', 'khaki', 'lightgrey']\n",
        "\n",
        "ax = grouped_man.plot.bar(color=colors, rot=0)\n",
        "\n",
        "for p in ax.patches:\n",
        "    height = p.get_height()\n",
        "    ax.text(p.get_x() + p.get_width() / 2, height + 5, height, ha = 'center', size = 10)\n"
      ],
      "metadata": {
        "colab": {
          "base_uri": "https://localhost:8080/",
          "height": 627
        },
        "id": "jSG2eQLAQlpF",
        "outputId": "90fb3cb8-fde4-4bbe-af97-78c7e10665c1"
      },
      "execution_count": 51,
      "outputs": [
        {
          "output_type": "stream",
          "name": "stdout",
          "text": [
            "분기\n",
            "1분기    20124\n",
            "2분기    19200\n",
            "3분기    21538\n",
            "4분기    20121\n",
            "Name: 대출건수, dtype: int64\n"
          ]
        },
        {
          "output_type": "display_data",
          "data": {
            "text/plain": [
              "<Figure size 432x288 with 1 Axes>"
            ],
            "image/png": "[encoded data removed]"
          },
          "metadata": {}
        },
        {
          "output_type": "display_data",
          "data": {
            "text/plain": [
              "<Figure size 432x288 with 1 Axes>"
            ],
            "image/png": "[encoded data removed]"
          },
          "metadata": {
            "needs_background": "light"
          }
        }
      ]
    },
    {
      "cell_type": "code",
      "source": [
        "#남녀 라인플롯 합치기\n",
        "ax1 = plt.subplot(2, 1, 1)  \n",
        "ax1 = sns.lineplot(data=grouped_woman, label='women', color='lightsalmon')\n",
        "plt.xticks(visible=False)\n",
        "\n",
        "ax2 = plt.subplot(2, 1, 2, sharex=ax1)  \n",
        "ax2 =sns.lineplot(data=grouped_man, label='man', color='lightskyblue')\n",
        "\n",
        "ax1.set_ylim(50000, 80000)\n",
        "ax2.set_ylim(15000, 25000)\n",
        "\n",
        "# 그래프 사이의 경계선 제거\n",
        "ax1.spines['bottom'].set_visible(False)\n",
        "ax2.spines['top'].set_visible(False)\n",
        "ax1.xaxis.tick_top()\n",
        "ax1.tick_params(labeltop=False)\n",
        "ax2.xaxis.tick_bottom()\n",
        "\n",
        "# ax2.get_legend().remove()\n",
        "ax1.axes.xaxis.set_visible(False)\n",
        "\n",
        "# y축에 물결선 표시\n",
        "kwargs = dict(marker=[(-1, -0.5), (1, 0.5)], markersize=12,\n",
        "              linestyle=\"none\", color='k', mec='k', mew=1, clip_on=False)\n",
        "ax1.plot([0, 1], [0, 0], transform=ax1.transAxes, **kwargs)\n",
        "ax2.plot([0, 1], [1, 1], transform=ax2.transAxes, **kwargs)\n",
        "\n",
        "plt.show()"
      ],
      "metadata": {
        "colab": {
          "base_uri": "https://localhost:8080/",
          "height": 281
        },
        "id": "3pjAdVIZRoL3",
        "outputId": "00bd8a99-ad73-4d23-9bbf-a22dec359fe1"
      },
      "execution_count": 71,
      "outputs": [
        {
          "output_type": "display_data",
          "data": {
            "text/plain": [
              "<Figure size 432x288 with 2 Axes>"
            ],
            "image/png": "[encoded data removed]"
          },
          "metadata": {
            "needs_background": "light"
          }
        }
      ]
    },
    {
      "cell_type": "code",
      "source": [
        "# 분기별 대출도서 유형 분류\n",
        "sns.set_palette(\"Set2\")\n",
        "sns.countplot(data=df_quater, x='sorted_KDC', hue='분기')"
      ],
      "metadata": {
        "colab": {
          "base_uri": "https://localhost:8080/",
          "height": 295
        },
        "id": "eXGJW6UiE0gD",
        "outputId": "10e6f57c-5a2f-48a0-89a0-c4072718dd5e"
      },
      "execution_count": 77,
      "outputs": [
        {
          "output_type": "execute_result",
          "data": {
            "text/plain": [
              "<matplotlib.axes._subplots.AxesSubplot at 0x7fb1e33278e0>"
            ]
          },
          "metadata": {},
          "execution_count": 77
        },
        {
          "output_type": "display_data",
          "data": {
            "text/plain": [
              "<Figure size 432x288 with 1 Axes>"
            ],
            "image/png": "[encoded data removed]"
          },
          "metadata": {
            "needs_background": "light"
          }
        }
      ]
    }
  ]
}