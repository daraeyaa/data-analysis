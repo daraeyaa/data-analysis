{
  "nbformat": 4,
  "nbformat_minor": 0,
  "metadata": {
    "colab": {
      "provenance": []
    },
    "kernelspec": {
      "name": "python3",
      "display_name": "Python 3"
    },
    "language_info": {
      "name": "python"
    }
  },
  "cells": [
    {
      "cell_type": "markdown",
      "source": [
        "**도서관 빅데이터를 활용한\n",
        "20대 성별에 따른 대출 트랜드 분석**\n",
        "\n",
        "* 도서관 정보나루 데이터 사용"
      ],
      "metadata": {
        "id": "06EduBaH54Pn"
      }
    },
    {
      "cell_type": "code",
      "source": [
        "# 단계 1: 폰트 설치\n",
        "import matplotlib.font_manager as fm\n",
        "\n",
        "!apt-get -qq -y install fonts-nanum > /dev/null\n",
        "fontpath = '/usr/share/fonts/truetype/nanum/NanumBarunGothic.ttf'\n",
        "font = fm.FontProperties(fname=fontpath, size=9)\n",
        "fm._rebuild()"
      ],
      "metadata": {
        "id": "GR3S01FDaHiv"
      },
      "execution_count": 158,
      "outputs": []
    },
    {
      "cell_type": "code",
      "source": [
        "# 단계 2: 런타임 재시작\n",
        "import os\n",
        "os.kill(os.getpid(), 9)"
      ],
      "metadata": {
        "id": "Q7X0wazRafLz"
      },
      "execution_count": null,
      "outputs": []
    },
    {
      "cell_type": "code",
      "source": [
        "# 단계 3: 한글 폰트 설정\n",
        "import matplotlib.pyplot as plt\n",
        "import matplotlib as mpl\n",
        "import matplotlib.font_manager as fm\n",
        "\n",
        "# 마이너스 표시 문제\n",
        "mpl.rcParams['axes.unicode_minus'] = False\n",
        "\t\n",
        "# 한글 폰트 설정\n",
        "path = '/usr/share/fonts/truetype/nanum/NanumGothicBold.ttf'\n",
        "font_name = fm.FontProperties(fname=path, size=18).get_name()\n",
        "plt.rc('font', family=font_name)\n",
        "fm._rebuild()"
      ],
      "metadata": {
        "id": "vLYxcw4paiE-"
      },
      "execution_count": 1,
      "outputs": []
    },
    {
      "cell_type": "code",
      "execution_count": 3,
      "metadata": {
        "colab": {
          "base_uri": "https://localhost:8080/"
        },
        "id": "BgjicAw_-OrB",
        "outputId": "6a4fa314-1ef3-437b-f3ba-2cfb69fd21cb"
      },
      "outputs": [
        {
          "output_type": "stream",
          "name": "stdout",
          "text": [
            "2022년_20대_남성_인기도서\n",
            "   순위                                       서명                       저자  \\\n",
            "0   1  사피엔스 :유인원에서 사이보그까지, 인간 역사의 대담하고 위대한 질문     지은이: 유발 하라리 ;옮긴이: 조현욱   \n",
            "1   2       공정하다는 착각 :능력주의는 모두에게 같은 기회를 제공하는가         마이클 샌델 지음 ;함규진 옮김   \n",
            "2   3              나미야 잡화점의 기적 :히가시노 게이고 장편소설   지은이: 히가시노 게이고 ;옮긴이: 양윤옥   \n",
            "3   4                     달러구트 꿈 백화점.이미예 장편소설                  지은이: 이미예   \n",
            "4   5           돈의 속성 :최상위 부자가 말하는 돈에 대한 모든 것                  지은이: 김승호   \n",
            "\n",
            "                출판사  출판년도   권          ISBN  ISBN부가기호     KDC  대출건수  성별  \n",
            "0               김영사  2015 NaN  9.788930e+12    3900.0  909.00   973  남성  \n",
            "1               미래엔  2020 NaN  9.791160e+12    3300.0  332.60   879  남성  \n",
            "2              현대문학  2012 NaN  9.788970e+12    3830.0  833.60   842  남성  \n",
            "3             팩토리나인  2020 NaN  9.791170e+12    3810.0  813.70   783  남성  \n",
            "4  Snowfox(스노우폭스북스)  2020 NaN  9.791190e+12    3320.0  327.04   730  남성  \n",
            "2022년_20대_여성_인기도서\n",
            "   순위                           서명        저자                  출판사  출판년도   권  \\\n",
            "0   1          지구 끝의 온실 :김초엽 장편소설   지은이: 김초엽  Giant Books(자이언트북스)  2021 NaN   \n",
            "1   2         달러구트 꿈 백화점.이미예 장편소설   지은이: 이미예                팩토리나인  2020 NaN   \n",
            "2   3           시선으로부터, :정세랑 장편소설   지은이: 정세랑                 문학동네  2020 NaN   \n",
            "3   4  우리가 빛의 속도로 갈 수 없다면 :김초엽 소설   지은이: 김초엽                   허블  2019 NaN   \n",
            "4   5          지구에서 한아뿐 :정세랑 장편소설   지은이: 정세랑                   난다  2019 NaN   \n",
            "\n",
            "           ISBN  ISBN부가기호    KDC  대출건수  성별  \n",
            "0  9.790000e+12    3810.0  813.7  5176  여성  \n",
            "1  9.790000e+12    3810.0  813.7  5028  여성  \n",
            "2  9.790000e+12    3810.0  813.7  4891  여성  \n",
            "3  9.790000e+12    3810.0  813.7  4763  여성  \n",
            "4  9.790000e+12    3810.0  813.7  4145  여성  \n",
            "<class 'pandas.core.frame.DataFrame'>\n",
            "Int64Index: 400 entries, 0 to 199\n",
            "Data columns (total 11 columns):\n",
            " #   Column    Non-Null Count  Dtype  \n",
            "---  ------    --------------  -----  \n",
            " 0   순위        400 non-null    int64  \n",
            " 1   서명        400 non-null    object \n",
            " 2   저자        400 non-null    object \n",
            " 3   출판사       400 non-null    object \n",
            " 4   출판년도      400 non-null    object \n",
            " 5   권         41 non-null     float64\n",
            " 6   ISBN      400 non-null    float64\n",
            " 7   ISBN부가기호  394 non-null    float64\n",
            " 8   KDC       396 non-null    float64\n",
            " 9   대출건수      400 non-null    int64  \n",
            " 10  성별        400 non-null    object \n",
            "dtypes: float64(4), int64(2), object(5)\n",
            "memory usage: 37.5+ KB\n",
            "None\n",
            "<class 'pandas.core.frame.DataFrame'>\n",
            "Int64Index: 400 entries, 0 to 199\n",
            "Data columns (total 9 columns):\n",
            " #   Column  Non-Null Count  Dtype  \n",
            "---  ------  --------------  -----  \n",
            " 0   순위      400 non-null    int64  \n",
            " 1   서명      400 non-null    object \n",
            " 2   저자      400 non-null    object \n",
            " 3   출판사     400 non-null    object \n",
            " 4   출판년도    400 non-null    object \n",
            " 5   ISBN    400 non-null    float64\n",
            " 6   KDC     400 non-null    float64\n",
            " 7   대출건수    400 non-null    int64  \n",
            " 8   성별      400 non-null    object \n",
            "dtypes: float64(2), int64(2), object(5)\n",
            "memory usage: 31.2+ KB\n",
            "None\n"
          ]
        }
      ],
      "source": [
        "# 라이브러리 불러오기\n",
        "import pandas as pd\n",
        "import seaborn as sns\n",
        "\n",
        "# 파일 경로\n",
        "file_path_man = '/content/2022년_20대_남성_인기도서.csv'\n",
        "file_path_woman = '/content/2022년_20대_여성_인기도서.csv'\n",
        "\n",
        "\n",
        "# 데이터프레임 변환(인코딩 에러 -> encoding 파라미터 활용)\n",
        "df_man = pd.read_csv(file_path_man, encoding='cp949')\n",
        "df_woman = pd.read_csv(file_path_woman, encoding='cp949')\n",
        "\n",
        "#성별 열 추가\n",
        "df_man['성별'] = '남성'\n",
        "print('2022년_20대_남성_인기도서')\n",
        "print(df_man.head())\n",
        "\n",
        "df_woman['성별'] = '여성'\n",
        "print('2022년_20대_여성_인기도서')\n",
        "print(df_woman.head())\n",
        "\n",
        "\n",
        "# 데이터프레임 합치기(행 방향으로 합치기)\n",
        "df = pd.concat([df_man, df_woman])\n",
        "print(df.info()) #400row 확인\n",
        "\n",
        "\n",
        "#합친 데이터 프레임 가공\n",
        "#권,ISBN 부가기호 열 삭제\n",
        "df.drop(['권', 'ISBN부가기호'], axis=1, inplace=True)\n",
        "\n",
        "#KDC 결측치 처리(396 non-null, 4건의 NaN)\n",
        "df['KDC'].fillna(method='bfill', inplace=True)\n",
        "print(df.info())\n",
        "\n"
      ]
    },
    {
      "cell_type": "code",
      "source": [
        "#성별별 대출건수 합산을 위한 groupby 연산\n",
        "grouped_sex = df.groupby(df['성별'])['대출건수'].sum()\n",
        "\n",
        "# 시리즈 -> 데이터프레임 변환\n",
        "df_sex = pd.Series(grouped_sex, index=['남성', '여성']).rename_axis('성별')\n",
        "print(grouped_sex)\n",
        "print(df_sex)\n",
        "\n",
        "#성별별 대출건수 시각화\n",
        "colors=['darkseagreen', 'mediumpurple']\n",
        "df_sex.plot(kind='bar', color=colors)\n"
      ],
      "metadata": {
        "colab": {
          "base_uri": "https://localhost:8080/",
          "height": 444
        },
        "id": "ixyQ1UrGokPy",
        "outputId": "f1b11a52-0c98-497a-c153-0e1ab1ef23d4"
      },
      "execution_count": 53,
      "outputs": [
        {
          "output_type": "stream",
          "name": "stdout",
          "text": [
            "성별\n",
            "남성     70985\n",
            "여성    295929\n",
            "Name: 대출건수, dtype: int64\n",
            "성별\n",
            "남성     70985\n",
            "여성    295929\n",
            "Name: 대출건수, dtype: int64\n"
          ]
        },
        {
          "output_type": "execute_result",
          "data": {
            "text/plain": [
              "<matplotlib.axes._subplots.AxesSubplot at 0x7fa5e5b12f10>"
            ]
          },
          "metadata": {},
          "execution_count": 53
        },
        {
          "output_type": "display_data",
          "data": {
            "text/plain": [
              "<Figure size 432x288 with 1 Axes>"
            ],
            "image/png": "[encoded data removed]"
          },
          "metadata": {
            "needs_background": "light"
          }
        }
      ]
    },
    {
      "cell_type": "code",
      "source": [
        "# KDC(한국십진분류법) 기반 분류를 위해 함수 매핑\n",
        "\n",
        "def kdcFunc(x) :\n",
        "  if (x > 0 and x <100):\n",
        "    return '총류'\n",
        "  elif (x >=100 and x<200) :\n",
        "    return '철학'\n",
        "  elif (x >=200 and x<300) :\n",
        "    return '종교'\n",
        "  elif (x >=300 and x<400) :\n",
        "    return '사회과학'\n",
        "  elif (x >=400 and x<500) :\n",
        "    return '자연과학'\n",
        "  elif (x >=500 and x<600) :\n",
        "    return '기술과학'\n",
        "  elif (x >=600 and x<700) :\n",
        "    return '예술'\n",
        "  elif (x >=700 and x<800) :\n",
        "    return '언어'\n",
        "  elif (x >=800 and x<900) :\n",
        "    return '문학'\n",
        "  elif (x >=900 and x<1000) :\n",
        "    return '역사'\n",
        "  else :\n",
        "    return '미상'\n",
        "\n",
        "df['sorted_KDC'] = df.apply(lambda x:kdcFunc(x['KDC']), axis=1)\n",
        "\n",
        "print(df.info())\n",
        "print(df['sorted_KDC'].value_counts())\n",
        "print(df)\n"
      ],
      "metadata": {
        "colab": {
          "base_uri": "https://localhost:8080/"
        },
        "id": "AeI9opoDozBt",
        "outputId": "0321763b-4abd-4b7a-b2b6-e9c113852975"
      },
      "execution_count": 54,
      "outputs": [
        {
          "output_type": "stream",
          "name": "stdout",
          "text": [
            "<class 'pandas.core.frame.DataFrame'>\n",
            "Int64Index: 400 entries, 0 to 199\n",
            "Data columns (total 10 columns):\n",
            " #   Column      Non-Null Count  Dtype  \n",
            "---  ------      --------------  -----  \n",
            " 0   순위          400 non-null    int64  \n",
            " 1   서명          400 non-null    object \n",
            " 2   저자          400 non-null    object \n",
            " 3   출판사         400 non-null    object \n",
            " 4   출판년도        400 non-null    object \n",
            " 5   ISBN        400 non-null    float64\n",
            " 6   KDC         400 non-null    float64\n",
            " 7   대출건수        400 non-null    int64  \n",
            " 8   성별          400 non-null    object \n",
            " 9   sorted_KDC  400 non-null    object \n",
            "dtypes: float64(2), int64(2), object(6)\n",
            "memory usage: 50.5+ KB\n",
            "None\n",
            "문학      220\n",
            "사회과학    103\n",
            "철학       37\n",
            "총류       13\n",
            "자연과학      9\n",
            "기술과학      9\n",
            "역사        6\n",
            "예술        3\n",
            "Name: sorted_KDC, dtype: int64\n",
            "      순위                                       서명                       저자  \\\n",
            "0      1  사피엔스 :유인원에서 사이보그까지, 인간 역사의 대담하고 위대한 질문     지은이: 유발 하라리 ;옮긴이: 조현욱   \n",
            "1      2       공정하다는 착각 :능력주의는 모두에게 같은 기회를 제공하는가         마이클 샌델 지음 ;함규진 옮김   \n",
            "2      3              나미야 잡화점의 기적 :히가시노 게이고 장편소설   지은이: 히가시노 게이고 ;옮긴이: 양윤옥   \n",
            "3      4                     달러구트 꿈 백화점.이미예 장편소설                  지은이: 이미예   \n",
            "4      5           돈의 속성 :최상위 부자가 말하는 돈에 대한 모든 것                  지은이: 김승호   \n",
            "..   ...                                      ...                      ...   \n",
            "195  196                      당신이 옳다 :정혜신의 적정심리학                  지은이: 정혜신   \n",
            "196  197                                     연금술사        파울로 코엘료 지음;최정수 옮김   \n",
            "197  198                             추리소설가의 살인사건    저자: 히가시노 게이고 ;옮긴이: 민경욱   \n",
            "198  199                      재인, 재욱, 재훈 :정세랑 소설                  지은이: 정세랑   \n",
            "199  200                         오직 두 사람 :김영하 소설                  지은이: 김영하   \n",
            "\n",
            "                  출판사  출판년도          ISBN     KDC  대출건수  성별 sorted_KDC  \n",
            "0                 김영사  2015  9.788930e+12  909.00   973  남성         역사  \n",
            "1                 미래엔  2020  9.791160e+12  332.60   879  남성       사회과학  \n",
            "2                현대문학  2012  9.788970e+12  833.60   842  남성         문학  \n",
            "3               팩토리나인  2020  9.791170e+12  813.70   783  남성         문학  \n",
            "4    Snowfox(스노우폭스북스)  2020  9.791190e+12  327.04   730  남성       사회과학  \n",
            "..                ...   ...           ...     ...   ...  ..        ...  \n",
            "195                해냄  2018  9.790000e+12  189.00   761  여성         철학  \n",
            "196              문학동네  2001  9.790000e+12  879.00   760  여성         문학  \n",
            "197             소미미디어  2020  9.790000e+12  833.60   759  여성         문학  \n",
            "198              은행나무  2014  9.790000e+12  813.70   757  여성         문학  \n",
            "199              문학동네  2017  9.790000e+12  813.62   756  여성         문학  \n",
            "\n",
            "[400 rows x 10 columns]\n"
          ]
        }
      ]
    },
    {
      "cell_type": "code",
      "source": [
        "#20대 전체 기준 KDC 그래프\n",
        "\n",
        "sns.set_palette(\"hls\")\n",
        "sns.countplot(data=df, x='sorted_KDC')"
      ],
      "metadata": {
        "colab": {
          "base_uri": "https://localhost:8080/",
          "height": 295
        },
        "id": "g0XP1Or1vG_r",
        "outputId": "5125f4df-1b13-4b30-c8e5-af9fc77e2fc9"
      },
      "execution_count": 72,
      "outputs": [
        {
          "output_type": "execute_result",
          "data": {
            "text/plain": [
              "<matplotlib.axes._subplots.AxesSubplot at 0x7fa5e5436c70>"
            ]
          },
          "metadata": {},
          "execution_count": 72
        },
        {
          "output_type": "display_data",
          "data": {
            "text/plain": [
              "<Figure size 432x288 with 1 Axes>"
            ],
            "image/png": "[encoded data removed]"
          },
          "metadata": {
            "needs_background": "light"
          }
        }
      ]
    },
    {
      "cell_type": "code",
      "source": [
        "# 성별별 KDC 분류\n",
        "sns.set_palette(\"Set2\")\n",
        "sns.countplot(data=df, x='sorted_KDC', hue='성별')"
      ],
      "metadata": {
        "colab": {
          "base_uri": "https://localhost:8080/",
          "height": 295
        },
        "id": "9EsBryzc0lFB",
        "outputId": "e2a9b824-34e4-49e8-996a-1d1c55add937"
      },
      "execution_count": 74,
      "outputs": [
        {
          "output_type": "execute_result",
          "data": {
            "text/plain": [
              "<matplotlib.axes._subplots.AxesSubplot at 0x7fa5e53a12e0>"
            ]
          },
          "metadata": {},
          "execution_count": 74
        },
        {
          "output_type": "display_data",
          "data": {
            "text/plain": [
              "<Figure size 432x288 with 1 Axes>"
            ],
            "image/png": "[encoded data removed]"
          },
          "metadata": {
            "needs_background": "light"
          }
        }
      ]
    },
    {
      "cell_type": "markdown",
      "source": [],
      "metadata": {
        "id": "HGvaIIXDpQYx"
      }
    },
    {
      "cell_type": "markdown",
      "source": [
        "2021년 20대 성별, 분기별 대출량과 대출분야 분석"
      ],
      "metadata": {
        "id": "AQZ25Faj6TGm"
      }
    },
    {
      "cell_type": "code",
      "source": [
        "# 데이터 전처리\n",
        "\n",
        "# 라이브러리 불러오기\n",
        "import pandas as pd\n",
        "import seaborn as sns\n",
        "\n",
        "\n",
        "# csv 불러오기\n",
        "file_path_man1 = '/content/2021_1분기_남성.csv'\n",
        "file_path_man2 = '/content/2021_2분기_남성.csv'\n",
        "file_path_man3 = '/content/2021_3분기_남성.csv'\n",
        "file_path_man4 = '/content/2021_4분기_남성.csv'\n",
        "\n",
        "file_path_woman1 = '/content/2021_1분기_여성.csv'\n",
        "file_path_woman2 = '/content/2021_2분기_여성.csv'\n",
        "file_path_woman3 = '/content/2021_3분기_여성.csv'\n",
        "file_path_woman4 = '/content/2021_4분기_여성.csv'\n",
        "\n",
        "\n",
        "# 데이터프레임 변환\n",
        "df_man1 = pd.read_csv(file_path_man1, encoding='cp949')\n",
        "df_man2 = pd.read_csv(file_path_man2, encoding='cp949')\n",
        "df_man3 = pd.read_csv(file_path_man3, encoding='cp949')\n",
        "df_man4 = pd.read_csv(file_path_man4, encoding='cp949')\n",
        "\n",
        "df_woman1 = pd.read_csv(file_path_woman1, encoding='cp949')\n",
        "df_woman2 = pd.read_csv(file_path_woman2, encoding='cp949')\n",
        "df_woman3 = pd.read_csv(file_path_woman3, encoding='cp949')\n",
        "df_woman4 = pd.read_csv(file_path_woman4, encoding='cp949')\n",
        "\n",
        "\n",
        "# 성별, 분기 열 추가\n",
        "man_list = [df_man1, df_man2, df_man3, df_man4]\n",
        "woman_list = [df_woman1, df_woman2, df_woman3, df_woman4]\n",
        "num_list = [1, 2, 3, 4]\n",
        "\n",
        "for i, j in zip(man_list, num_list):\n",
        "  i['성별'] = '남성'\n",
        "  i['분기'] = str(j)+ '분기'\n",
        "\n",
        "for i, j in zip(woman_list, num_list) :\n",
        "  i['성별'] = '여성'\n",
        "  i['분기'] = str(j)+ '분기'\n",
        "  \n",
        "# print(df_man3.info())\n",
        "# print(df_woman3.head())\n",
        "\n",
        "\n",
        "# 데이터프레임 합치기(행 방향)\n",
        "df_quater = pd.concat([df_man1, df_man2, df_man3, df_man4, df_woman1, df_woman2, df_woman3, df_woman4])\n",
        "print(df_quater.info()) #1600행 확인(200*8)\n",
        "\n",
        "\n",
        "# 데이터프레임 불필요한 행 삭제\n",
        "df_quater.drop(['권', 'ISBN', 'ISBN부가기호'], axis=1, inplace=True)\n",
        "\n",
        "\n",
        "# KDC 결측치 처리 (1597 non-null, 3건)\n",
        "df_quater['KDC'].fillna(method='bfill', inplace=True)\n",
        "\n",
        "\n",
        "# KDC 처리\n",
        "df_quater['sorted_KDC'] = df_quater.apply(lambda x:kdcFunc(x['KDC']), axis=1)\n",
        "\n",
        "print(df_quater.info())\n",
        "print(df_quater['sorted_KDC'].value_counts())\n",
        "print(df_quater)\n",
        "\n",
        "df_quater.to_csv('분기별.csv')"
      ],
      "metadata": {
        "colab": {
          "base_uri": "https://localhost:8080/"
        },
        "id": "4wTaytjW0b0X",
        "outputId": "ed4f97d8-f658-4671-93d5-6b54190a6d59"
      },
      "execution_count": 148,
      "outputs": [
        {
          "output_type": "stream",
          "name": "stdout",
          "text": [
            "<class 'pandas.core.frame.DataFrame'>\n",
            "Int64Index: 1600 entries, 0 to 199\n",
            "Data columns (total 12 columns):\n",
            " #   Column    Non-Null Count  Dtype  \n",
            "---  ------    --------------  -----  \n",
            " 0   순위        1600 non-null   int64  \n",
            " 1   서명        1600 non-null   object \n",
            " 2   저자        1600 non-null   object \n",
            " 3   출판사       1600 non-null   object \n",
            " 4   출판년도      1600 non-null   object \n",
            " 5   권         163 non-null    float64\n",
            " 6   ISBN      1600 non-null   float64\n",
            " 7   ISBN부가기호  1584 non-null   float64\n",
            " 8   KDC       1597 non-null   float64\n",
            " 9   대출건수      1600 non-null   int64  \n",
            " 10  성별        1600 non-null   object \n",
            " 11  분기        1600 non-null   object \n",
            "dtypes: float64(4), int64(2), object(6)\n",
            "memory usage: 162.5+ KB\n",
            "None\n",
            "<class 'pandas.core.frame.DataFrame'>\n",
            "Int64Index: 1600 entries, 0 to 199\n",
            "Data columns (total 10 columns):\n",
            " #   Column      Non-Null Count  Dtype  \n",
            "---  ------      --------------  -----  \n",
            " 0   순위          1600 non-null   int64  \n",
            " 1   서명          1600 non-null   object \n",
            " 2   저자          1600 non-null   object \n",
            " 3   출판사         1600 non-null   object \n",
            " 4   출판년도        1600 non-null   object \n",
            " 5   KDC         1600 non-null   float64\n",
            " 6   대출건수        1600 non-null   int64  \n",
            " 7   성별          1600 non-null   object \n",
            " 8   분기          1600 non-null   object \n",
            " 9   sorted_KDC  1600 non-null   object \n",
            "dtypes: float64(1), int64(2), object(7)\n",
            "memory usage: 137.5+ KB\n",
            "None\n",
            "문학      868\n",
            "사회과학    387\n",
            "철학      157\n",
            "총류       64\n",
            "기술과학     49\n",
            "역사       28\n",
            "자연과학     27\n",
            "예술       12\n",
            "언어        7\n",
            "종교        1\n",
            "Name: sorted_KDC, dtype: int64\n",
            "      순위                                             서명  \\\n",
            "0      1        사피엔스 :유인원에서 사이보그까지, 인간 역사의 대담하고 위대한 질문    \n",
            "1      2                          12가지 인생의 법칙 :혼돈의 해독제    \n",
            "2      3                    나미야 잡화점의 기적 :히가시노 게이고 장편소설    \n",
            "3      4  팩트풀니스 :우리가 세상을 오해하는 10가지 이유와 세상이 생각보다 괜찮은 이유    \n",
            "4      5     (50대 사건으로 보는) 돈의 역사 =The history of money    \n",
            "..   ...                                            ...   \n",
            "195  196                  어디서 살 것인가우리가 살고 싶은 곳의 기준을 바꾸다   \n",
            "196  196                             눈으로 만든 사람 :최은미 소설    \n",
            "197  196                    트라우마 사전 :작가를 위한 캐릭터 창조 가이드    \n",
            "198  196                   존리의 금융문맹 탈출 :대한민국 경제독립 프로젝트    \n",
            "199  196         정신병의 나라에서 왔습니다 :병과 함께 살아가는 이들을 위한 안내서    \n",
            "\n",
            "                          저자               출판사  출판년도      KDC  대출건수  성별   분기  \\\n",
            "0      지은이: 유발 하라리 ;옮긴이: 조현욱               김영사  2015  909.000   309  남성  1분기   \n",
            "1       조던 B. 피터슨 지음 ;강주헌 옮김               메이븐  2018  199.100   285  남성  1분기   \n",
            "2    지은이: 히가시노 게이고 ;옮긴이: 양윤옥              현대문학  2012  833.600   267  남성  1분기   \n",
            "3       지은이: 한스 로슬링,옮긴이: 이창신               김영사  2019  331.100   240  남성  1분기   \n",
            "4                     홍춘욱 지음  Rok Media(로크미디어)  2019  327.209   237  남성  1분기   \n",
            "..                       ...               ...   ...      ...   ...  ..  ...   \n",
            "195                   유현준 지음             부산일보사  2018  540.040   180  여성  4분기   \n",
            "196                 지은이: 최은미              문학동네  2021  813.700   180  여성  4분기   \n",
            "197           안젤라 애커만,임상훈 옮김                윌북  2020  802.000   180  여성  4분기   \n",
            "198                    존리 지음              베가북스  2020  327.800   180  여성  4분기   \n",
            "199                    리단 지음                반비  2021  513.890   180  여성  4분기   \n",
            "\n",
            "    sorted_KDC  \n",
            "0           역사  \n",
            "1           철학  \n",
            "2           문학  \n",
            "3         사회과학  \n",
            "4         사회과학  \n",
            "..         ...  \n",
            "195       기술과학  \n",
            "196         문학  \n",
            "197         문학  \n",
            "198       사회과학  \n",
            "199       기술과학  \n",
            "\n",
            "[1600 rows x 10 columns]\n"
          ]
        }
      ]
    },
    {
      "cell_type": "code",
      "source": [
        "# 분기별 대출량\n",
        "grouped_quater = df_quater.groupby(['성별', '분기'])['대출건수'].sum()\n",
        "print(grouped_quater)\n",
        "grouped_quater.plot.bar()\n"
      ],
      "metadata": {
        "colab": {
          "base_uri": "https://localhost:8080/",
          "height": 517
        },
        "id": "oC-MdIN-J9Ho",
        "outputId": "3d1ea016-f9f5-4d8b-ce43-4675f9d1b511"
      },
      "execution_count": 154,
      "outputs": [
        {
          "output_type": "stream",
          "name": "stdout",
          "text": [
            "성별  분기 \n",
            "남성  1분기    20124\n",
            "    2분기    19200\n",
            "    3분기    21538\n",
            "    4분기    20121\n",
            "여성  1분기    77371\n",
            "    2분기    65949\n",
            "    3분기    78994\n",
            "    4분기    70568\n",
            "Name: 대출건수, dtype: int64\n"
          ]
        },
        {
          "output_type": "execute_result",
          "data": {
            "text/plain": [
              "<matplotlib.axes._subplots.AxesSubplot at 0x7fa5e064f550>"
            ]
          },
          "metadata": {},
          "execution_count": 154
        },
        {
          "output_type": "display_data",
          "data": {
            "text/plain": [
              "<Figure size 432x288 with 1 Axes>"
            ],
            "image/png": "[encoded data removed]"
          },
          "metadata": {
            "needs_background": "light"
          }
        }
      ]
    },
    {
      "cell_type": "code",
      "source": [
        "# 데이터 시각화\n",
        "\n",
        "# 분기별 대출도서 유형 분류\n",
        "sns.set_palette(\"Set2\")\n",
        "sns.countplot(data=df_quater, x='sorted_KDC', hue='분기')"
      ],
      "metadata": {
        "colab": {
          "base_uri": "https://localhost:8080/",
          "height": 295
        },
        "id": "eXGJW6UiE0gD",
        "outputId": "a72327f7-9c47-4264-da48-149d5ccdf4d2"
      },
      "execution_count": 157,
      "outputs": [
        {
          "output_type": "execute_result",
          "data": {
            "text/plain": [
              "<matplotlib.axes._subplots.AxesSubplot at 0x7fa5e0457610>"
            ]
          },
          "metadata": {},
          "execution_count": 157
        },
        {
          "output_type": "display_data",
          "data": {
            "text/plain": [
              "<Figure size 432x288 with 1 Axes>"
            ],
            "image/png": "[encoded data removed]"
          },
          "metadata": {
            "needs_background": "light"
          }
        }
      ]
    }
  ]
}